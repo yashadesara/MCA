{
 "cells": [
  {
   "cell_type": "code",
   "execution_count": 2,
   "metadata": {},
   "outputs": [
    {
     "name": "stdout",
     "output_type": "stream",
     "text": [
      "   empno name  deptno  basic    DA   HRA  conv\n",
      "0      1  abc       1  10000  1500   500  3000\n",
      "1      2  zyz       2  20000  1500   500  1500\n",
      "2      3  xyz       1  30000   500   750  1000\n",
      "3      4  pqr       1  40000  1200  2500  2000\n",
      "4      5  hjk       3  50000  1100  3500  3000\n"
     ]
    }
   ],
   "source": [
    "import pandas as pd\n",
    "# datapath = 'E:\\\\PYTHON\\data.csv'\n",
    "df = pd.read_csv('data.csv')\n",
    "print(df)\n"
   ]
  },
  {
   "cell_type": "code",
   "execution_count": 2,
   "metadata": {},
   "outputs": [
    {
     "name": "stdout",
     "output_type": "stream",
     "text": [
      "Get shape of Data:\n",
      "(5, 7)\n"
     ]
    }
   ],
   "source": [
    "print(\"Get shape of Data:\")\n",
    "print(df.shape)"
   ]
  },
  {
   "cell_type": "code",
   "execution_count": 3,
   "metadata": {},
   "outputs": [
    {
     "name": "stdout",
     "output_type": "stream",
     "text": [
      "Get desired specific data from file(get 3rd row):\n",
      "   empno name  deptno  basic   DA  HRA  conv\n",
      "2      3  xyz       1  30000  500  750  1000\n",
      "   empno name  deptno  basic   DA  HRA  conv\n",
      "2      3  xyz       1  30000  500  750  1000\n"
     ]
    }
   ],
   "source": [
    "print(\"Get desired specific data from file(get 3rd row):\")\n",
    "print(df.tail(3).head(1))\n",
    "print(df[2:3])"
   ]
  },
  {
   "cell_type": "code",
   "execution_count": null,
   "metadata": {},
   "outputs": [
    {
     "name": "stdout",
     "output_type": "stream",
     "text": [
      "Get data in reverse:\n",
      "   empno name  deptno  basic    DA   HRA  conv\n",
      "4      5  hjk       3  50000  1100  3500  3000\n",
      "3      4  pqr       1  40000  1200  2500  2000\n",
      "2      3  xyz       1  30000   500   750  1000\n",
      "1      2  zyz       2  20000  1500   500  1500\n"
     ]
    }
   ],
   "source": [
    "print(\"Get data in reverse:\")\n",
    "print(df[4:0:-1])"
   ]
  },
  {
   "cell_type": "code",
   "execution_count": null,
   "metadata": {},
   "outputs": [
    {
     "name": "stdout",
     "output_type": "stream",
     "text": [
      "Get data via header col name\n",
      "   empno name\n",
      "0      1  abc\n",
      "1      2  zyz\n",
      "2      3  xyz\n",
      "3      4  pqr\n",
      "4      5  hjk\n"
     ]
    }
   ],
   "source": [
    "print(\"Get data via header col name\")\n",
    "print(df[['empno','name']])"
   ]
  },
  {
   "cell_type": "code",
   "execution_count": null,
   "metadata": {},
   "outputs": [
    {
     "name": "stdout",
     "output_type": "stream",
     "text": [
      "read data from dictionary:\n",
      "   id    name    city\n",
      "0   1   bhuro     jam\n",
      "1   2  bhuro2    rjkt\n",
      "2   3  bhuro3  ahmdbd\n"
     ]
    }
   ],
   "source": [
    "print(\"read data from dictionary:\")\n",
    "df_dict = {\n",
    "    'id':[1,2,3],\n",
    "    'name':['bhuro','bhuro2','bhuro3'],\n",
    "    'city':['jam','rjkt','ahmdbd']\n",
    "}\n",
    "print(pd.DataFrame(df_dict))"
   ]
  },
  {
   "cell_type": "code",
   "execution_count": null,
   "metadata": {},
   "outputs": [
    {
     "name": "stdout",
     "output_type": "stream",
     "text": [
      "read data from list:\n",
      "       0\n",
      "0      1\n",
      "1      2\n",
      "2  bhuro\n",
      "3    3.4\n"
     ]
    }
   ],
   "source": [
    "print(\"read data from list:\")\n",
    "df_list = [1,2,'bhuro',3.4]\n",
    "print(pd.DataFrame(df_list))\n"
   ]
  }
 ],
 "metadata": {
  "interpreter": {
   "hash": "0600588c3b5f4418cbe7b5ebc6825b479f3bc010269d8b60d75058cdd010adfe"
  },
  "kernelspec": {
   "display_name": "Python 3.7.2 64-bit",
   "language": "python",
   "name": "python3"
  },
  "language_info": {
   "codemirror_mode": {
    "name": "ipython",
    "version": 3
   },
   "file_extension": ".py",
   "mimetype": "text/x-python",
   "name": "python",
   "nbconvert_exporter": "python",
   "pygments_lexer": "ipython3",
   "version": "3.7.2"
  },
  "orig_nbformat": 4
 },
 "nbformat": 4,
 "nbformat_minor": 2
}
