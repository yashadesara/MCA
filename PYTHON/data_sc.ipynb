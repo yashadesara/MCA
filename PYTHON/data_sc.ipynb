{
 "cells": [
  {
   "cell_type": "code",
   "execution_count": 1,
   "metadata": {},
   "outputs": [
    {
     "name": "stdout",
     "output_type": "stream",
     "text": [
      "   empid empname  salary         DOJ\n",
      "0    101    Yash   10000  01-01-2008\n",
      "1    102    soni   20000  01-02-2009\n",
      "2    103    bhai   30000  01-03-2010\n",
      "3    104   bhuro  100000  01-04-2010\n"
     ]
    }
   ],
   "source": [
    "from cProfile import label\n",
    "from turtle import color\n",
    "import matplotlib.pyplot as plt\n",
    "import pandas as pd\n",
    "datapath = \"data2.csv\"\n",
    "df = pd.read_csv(datapath)\n",
    "data_fr = pd.read_csv(datapath)\n",
    "print(df)\n"
   ]
  },
  {
   "cell_type": "code",
   "execution_count": 2,
   "metadata": {},
   "outputs": [
    {
     "name": "stdout",
     "output_type": "stream",
     "text": [
      "   empid empname  salary        DOJ\n",
      "0    101    Yash   10000 2022-02-01\n",
      "1    102    soni   20000 2009-02-01\n",
      "2    103    bhai    3000 2010-03-01\n",
      "3    104   bhuro   40000 2010-04-01\n"
     ]
    }
   ],
   "source": [
    "import pandas as pd\n",
    "datapath = \"ex.xlsx\"\n",
    "df = pd.read_excel(datapath,\"Sheet1\")\n",
    "print(df)"
   ]
  },
  {
   "cell_type": "code",
   "execution_count": 3,
   "metadata": {},
   "outputs": [
    {
     "name": "stdout",
     "output_type": "stream",
     "text": [
      "   empid  ename  salary         DOJ\n",
      "0    101   Yash   10000  01-01-2008\n",
      "1    102   soni   20000  01-02-2008\n",
      "2    103  bhuro   30000  01-03-2008\n"
     ]
    }
   ],
   "source": [
    "empdata = {\n",
    "    \"empid\":[101,102,103],\n",
    "    \"ename\":[\"Yash\",\"soni\",\"bhuro\"],\n",
    "    \"salary\":[10000,20000,30000],\n",
    "    \"DOJ\":[\"01-01-2008\",\"01-02-2008\",\"01-03-2008\"]\n",
    "}\n",
    "df = pd.DataFrame(empdata)\n",
    "print(df)"
   ]
  },
  {
   "cell_type": "code",
   "execution_count": 4,
   "metadata": {},
   "outputs": [
    {
     "name": "stdout",
     "output_type": "stream",
     "text": [
      "   empid empname  salary         DOJ\n",
      "0    101    yash   10000  01-02-2008\n",
      "1    102    bhai   20000  02-02-2008\n",
      "2    103   bhuro   30000  03-02-2008\n",
      "3    104   bhuro   40000  04-02-2008\n",
      "4    105   bhuro   50000  05-02-2008\n",
      "5    105           50000  05-02-2008\n",
      "rows:6 , cols:4\n"
     ]
    }
   ],
   "source": [
    "empdata = [\n",
    "    (101,\"yash\",10000,\"01-02-2008\"),\n",
    "    (102,\"bhai\",20000,\"02-02-2008\"),\n",
    "    (103,\"bhuro\",30000,\"03-02-2008\"),\n",
    "    (104,\"bhuro\",40000,\"04-02-2008\"),\n",
    "    (105,\"bhuro\",50000,\"05-02-2008\"),\n",
    "    (105,\"\",50000,\"05-02-2008\")\n",
    "]\n",
    "\n",
    "df = pd.DataFrame(empdata,columns=[\"empid\",\"empname\",\"salary\",\"DOJ\"])\n",
    "print(df)\n",
    "print(f\"rows:{df.shape[0]} , cols:{df.shape[1]}\")"
   ]
  },
  {
   "cell_type": "code",
   "execution_count": 5,
   "metadata": {},
   "outputs": [],
   "source": [
    "# print(df.tail(2).head(1))"
   ]
  },
  {
   "cell_type": "code",
   "execution_count": 6,
   "metadata": {},
   "outputs": [
    {
     "name": "stdout",
     "output_type": "stream",
     "text": [
      "  empname  salary\n",
      "1    bhai   20000\n",
      "2   bhuro   30000\n",
      "3   bhuro   40000\n",
      "4   bhuro   50000\n",
      "5           50000\n",
      "  empname  salary\n",
      "0    yash   10000\n",
      "  empname  salary\n",
      "4   bhuro   50000\n",
      "5           50000\n",
      "hi bhuro your salary is 30000\n"
     ]
    }
   ],
   "source": [
    "# print(df[0:3])\n",
    "# print(df[2:0:-1])\n",
    "# print(df[2::-1]) #[start,end,stop]\n",
    "# print(df[0::2])\n",
    "# print(\"third col is:\",df.columns[2])\n",
    "# print(df.salary)\n",
    "print(df[[\"empname\",\"salary\"]][df.salary>10000])\n",
    "print(df[['empname','salary']][df.salary==df.salary.min()])\n",
    "print(df[['empname','salary']][df.salary==df.salary.max()])\n",
    "print(f\"hi {df.empname[2]} your salary is {df.salary[2]}\") #get col via index\n",
    "\n",
    "\n",
    "\n"
   ]
  },
  {
   "cell_type": "code",
   "execution_count": 7,
   "metadata": {},
   "outputs": [
    {
     "name": "stdout",
     "output_type": "stream",
     "text": [
      "<bound method NDFrame.describe of    empid empname  salary         DOJ\n",
      "0    101    yash   10000  01-02-2008\n",
      "1    102    bhai   20000  02-02-2008\n",
      "2    103   bhuro   30000  03-02-2008\n",
      "3    104   bhuro   40000  04-02-2008\n",
      "4    105   bhuro   50000  05-02-2008\n",
      "5    105           50000  05-02-2008>\n"
     ]
    }
   ],
   "source": [
    "print(df.describe)"
   ]
  },
  {
   "cell_type": "code",
   "execution_count": 8,
   "metadata": {},
   "outputs": [
    {
     "name": "stdout",
     "output_type": "stream",
     "text": [
      "(6, 4)\n",
      "            empid        salary\n",
      "count    6.000000      6.000000\n",
      "mean   103.333333  33333.333333\n",
      "std      1.632993  16329.931619\n",
      "min    101.000000  10000.000000\n",
      "25%    102.250000  22500.000000\n",
      "50%    103.500000  35000.000000\n",
      "75%    104.750000  47500.000000\n",
      "max    105.000000  50000.000000\n"
     ]
    }
   ],
   "source": [
    "print(df.shape)\n",
    "print(df.describe())"
   ]
  },
  {
   "cell_type": "code",
   "execution_count": 9,
   "metadata": {},
   "outputs": [
    {
     "name": "stdout",
     "output_type": "stream",
     "text": [
      "RangeIndex(start=0, stop=6, step=1)\n",
      "empid             102\n",
      "empname          bhai\n",
      "salary          20000\n",
      "DOJ        02-02-2008\n",
      "Name: 1, dtype: object\n"
     ]
    }
   ],
   "source": [
    "print(df.index)\n",
    "print(df.loc[1])"
   ]
  },
  {
   "cell_type": "code",
   "execution_count": 10,
   "metadata": {},
   "outputs": [
    {
     "name": "stdout",
     "output_type": "stream",
     "text": [
      "empname          yash\n",
      "salary          10000\n",
      "DOJ        01-02-2008\n",
      "Name: 101, dtype: object\n"
     ]
    }
   ],
   "source": [
    "df2 = df.set_index('empid') #create new DaraFrame to set index\n",
    "print(df2.loc[101])"
   ]
  },
  {
   "cell_type": "code",
   "execution_count": 11,
   "metadata": {},
   "outputs": [
    {
     "name": "stdout",
     "output_type": "stream",
     "text": [
      "empname          yash\n",
      "salary          10000\n",
      "DOJ        01-02-2008\n",
      "Name: 101, dtype: object\n"
     ]
    },
    {
     "data": {
      "text/plain": [
       "RangeIndex(start=0, stop=6, step=1)"
      ]
     },
     "execution_count": 11,
     "metadata": {},
     "output_type": "execute_result"
    }
   ],
   "source": [
    "df.set_index('empid',inplace=True) #change on current DaraFrame to set index\n",
    "print(df.loc[101])\n",
    "df.reset_index(inplace=True)\n",
    "df.index"
   ]
  },
  {
   "cell_type": "code",
   "execution_count": 12,
   "metadata": {},
   "outputs": [
    {
     "name": "stdout",
     "output_type": "stream",
     "text": [
      "   empid empname  salary         DOJ\n",
      "4    105   bhuro   50000  05-02-2008\n",
      "5    105           50000  05-02-2008\n",
      "3    104   bhuro   40000  04-02-2008\n",
      "2    103   bhuro   30000  03-02-2008\n",
      "1    102    bhai   20000  02-02-2008\n",
      "0    101    yash   10000  01-02-2008 \n",
      "\n",
      "   empid empname  salary         DOJ\n",
      "0    101    yash   10000  01-02-2008\n",
      "1    102    bhai   20000  02-02-2008\n",
      "2    103   bhuro   30000  03-02-2008\n",
      "3    104   bhuro   40000  04-02-2008\n",
      "4    105   bhuro   50000  05-02-2008\n",
      "5    105           50000  05-02-2008\n"
     ]
    }
   ],
   "source": [
    "df_sort = df.sort_values('salary',ascending=False)\n",
    "print(df_sort,\"\\n\")\n",
    "print(df)"
   ]
  },
  {
   "cell_type": "code",
   "execution_count": 13,
   "metadata": {},
   "outputs": [
    {
     "name": "stdout",
     "output_type": "stream",
     "text": [
      "   empid empname  salary         DOJ\n",
      "0    101    yash   10000  01-02-2008\n",
      "2    103   bhuro   30000  03-02-2008\n",
      "3    104   bhuro   40000  04-02-2008\n",
      "4    105   bhuro   50000  05-02-2008\n",
      "1    102    bhai   20000  02-02-2008\n",
      "5    105           50000  05-02-2008\n"
     ]
    }
   ],
   "source": [
    "df_sort2 = df.sort_values(by=['empname','DOJ'],ascending=[False,True])\n",
    "print(df_sort2)"
   ]
  },
  {
   "cell_type": "code",
   "execution_count": 14,
   "metadata": {},
   "outputs": [
    {
     "name": "stdout",
     "output_type": "stream",
     "text": [
      "   empid empname  salary         DOJ\n",
      "0    101    Yash   10000  01-01-2008\n",
      "1    102    soni   20000  01-02-2009\n",
      "2    103    bhai   30000  01-03-2010\n",
      "3    104   bhuro  100000  01-04-2010\n"
     ]
    }
   ],
   "source": [
    "df_fillna = data_fr.fillna(0)\n",
    "print(df_fillna)"
   ]
  },
  {
   "cell_type": "code",
   "execution_count": 15,
   "metadata": {},
   "outputs": [
    {
     "name": "stdout",
     "output_type": "stream",
     "text": [
      "   empid empname  salary         DOJ\n",
      "0    101    Yash   10000  01-01-2008\n",
      "1    102    soni   20000  01-02-2009\n",
      "2    103    bhai   30000  01-03-2010\n",
      "3    104   bhuro  100000  01-04-2010\n"
     ]
    }
   ],
   "source": [
    "df_miss = data_fr.fillna({'salary':1000,'empname':'enter name'})\n",
    "print(df_miss)"
   ]
  },
  {
   "cell_type": "code",
   "execution_count": 16,
   "metadata": {},
   "outputs": [
    {
     "name": "stdout",
     "output_type": "stream",
     "text": [
      "    A  B  C\n",
      "0   1  5  1\n",
      "1   1  5  1\n",
      "2   1  6  1\n",
      "3   1  7  1\n",
      "4   2  5  1\n",
      "5   2  6  1\n",
      "6   2  6  1\n",
      "7   3  7  1\n",
      "8   3  7  1\n",
      "9   4  6  1\n",
      "10  4  7  1\n",
      "11  4  7  1\n",
      "     C\n",
      "A B   \n",
      "1 5  2\n",
      "  6  1\n",
      "  7  1\n",
      "2 5  1\n",
      "  6  2\n",
      "3 7  2\n",
      "4 6  1\n",
      "  7  2\n"
     ]
    }
   ],
   "source": [
    "df_groupBy = pd.DataFrame({\n",
    "    'A':[1,1,1,1,2,2,2,3,3,4,4,4],\n",
    "    'B':[5,5,6,7,5,6,6,7,7,6,7,7],\n",
    "    'C':[1,1,1,1,1,1,1,1,1,1,1,1]\n",
    "})\n",
    "\n",
    "print(df_groupBy)\n",
    "print(df_groupBy.groupby(['A','B']).count())\n",
    "\n"
   ]
  },
  {
   "cell_type": "code",
   "execution_count": 17,
   "metadata": {},
   "outputs": [
    {
     "name": "stdout",
     "output_type": "stream",
     "text": [
      "            B\n",
      "Animal       \n",
      "cat     100.5\n",
      "rate    150.2\n",
      "        B\n",
      "Animal   \n",
      "cat     2\n",
      "rate    2\n"
     ]
    }
   ],
   "source": [
    "df2_groupBy = pd.DataFrame({\n",
    "    'Animal':['cat','cat','rate','rate'],\n",
    "    'B':[50.,50.5,70.,80.2]\n",
    "})\n",
    "\n",
    "# print(df2_groupBy)\n",
    "print(df2_groupBy.groupby(['Animal']).sum())\n",
    "print(df2_groupBy.groupby(['Animal']).count())"
   ]
  },
  {
   "cell_type": "code",
   "execution_count": 18,
   "metadata": {},
   "outputs": [
    {
     "name": "stdout",
     "output_type": "stream",
     "text": [
      "Simple Interest:  100.0\n",
      "Compound Interest:  1102.5\n"
     ]
    },
    {
     "data": {
      "image/png": "[encoded data removed]",
      "text/plain": [
       "<Figure size 432x288 with 1 Axes>"
      ]
     },
     "metadata": {
      "needs_background": "light"
     },
     "output_type": "display_data"
    }
   ],
   "source": [
    "\n",
    "\n",
    "class InterestCalc(object):\n",
    "    def __init__(self,p,r,n):\n",
    "        self.p = p\n",
    "        self.r = r\n",
    "        self.n = n\n",
    "\n",
    "    def getSimpleInterest(self):\n",
    "        si = (self.p * self.r * self.n)/100\n",
    "        return si\n",
    "    \n",
    "    def getCompoundInterest(self):\n",
    "        ci = self.p * (pow((1+self.r/100), self.n))\n",
    "        return ci\n",
    "\n",
    "    def showBar(self):\n",
    "        y = [self.getSimpleInterest(),self.getCompoundInterest()]\n",
    "        x = [f'si {y[0]}', f'ci {y[1]}']\n",
    "        plt.bar(x,y,label='Interest Data',color=['lightgreen','lightblue'])\n",
    "        plt.xlabel('interest type')\n",
    "        plt.ylabel('interest')\n",
    "        plt.title(f\"P: {self.p} R : {self.r} N: {self.n}\")\n",
    "        plt.legend()\n",
    "        plt.show()\n",
    "\n",
    "\n",
    "p = 1000.00\n",
    "r = 5.00\n",
    "n = 2\n",
    "\n",
    "obj = InterestCalc(p,r,n)\n",
    "\n",
    "print(\"Simple Interest: \",obj.getSimpleInterest())\n",
    "print(\"Compound Interest: \",obj.getCompoundInterest())\n",
    "\n",
    "obj.showBar()"
   ]
  }
 ],
 "metadata": {
  "interpreter": {
   "hash": "5109d816b82be14675a6b11f8e0f0d2e80f029176ed3710d54e125caa8520dfd"
  },
  "kernelspec": {
   "display_name": "Python 3.7.2 64-bit",
   "language": "python",
   "name": "python3"
  },
  "language_info": {
   "codemirror_mode": {
    "name": "ipython",
    "version": 3
   },
   "file_extension": ".py",
   "mimetype": "text/x-python",
   "name": "python",
   "nbconvert_exporter": "python",
   "pygments_lexer": "ipython3",
   "version": "3.7.2"
  },
  "orig_nbformat": 4
 },
 "nbformat": 4,
 "nbformat_minor": 2
}
